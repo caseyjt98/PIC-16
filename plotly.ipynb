{
 "cells": [
  {
   "cell_type": "code",
   "execution_count": 2,
   "metadata": {
    "collapsed": true
   },
   "outputs": [],
   "source": [
    "import plotly"
   ]
  },
  {
   "cell_type": "code",
   "execution_count": 4,
   "metadata": {
    "collapsed": true
   },
   "outputs": [],
   "source": [
    "plotly.tools.set_credentials_file(username='caseytaylor', api_key='71lNTihwwtujhnnWbQAN')"
   ]
  },
  {
   "cell_type": "markdown",
   "metadata": {},
   "source": [
    "## iplot() and plot()"
   ]
  },
  {
   "cell_type": "markdown",
   "metadata": {},
   "source": [
    "iplot() and plot()\n",
    "- argument one is the Figure object to be shown\n",
    "- plus a filenameparameter, which is the name you will use to refer to the Figure in Plotly’s web interface. Each figure with a unique filename gets a unique URL. If you re-plot a figure with the same name, it keeps the same URL; you’ve just changed the plot that is there"
   ]
  },
  {
   "cell_type": "markdown",
   "metadata": {},
   "source": [
    "## figure object to plot"
   ]
  },
  {
   "cell_type": "markdown",
   "metadata": {},
   "source": [
    "\n",
    "A Figure object is composed of two parts:\n",
    "- The Data – all the information you are trying to present graphically, and\n",
    "- The Layout – specific ations about the figure independent of the data.\n",
    "\n",
    "In Python, you represent your Data using an instance of the __Data__ class and your Layout using an instance of the __Layout__ class, both of which you can import from the __plotly.graph_objsmodule__.\n",
    "\n",
    "In fact, all the other classes we’re going to look at in the tutorial are “Graph Objects”, so all of them are imported from plotly.graph_objs."
   ]
  },
  {
   "cell_type": "code",
   "execution_count": null,
   "metadata": {
    "collapsed": true
   },
   "outputs": [],
   "source": []
  },
  {
   "cell_type": "code",
   "execution_count": 1,
   "metadata": {},
   "outputs": [
    {
     "name": "stdout",
     "output_type": "stream",
     "text": [
      "High five! You successfully sent some data to your account on plotly. View your plot in your browser at https://plot.ly/~caseytaylor/0 or inside your plot.ly account where it is named 'basic-line'\n"
     ]
    },
    {
     "data": {
      "text/plain": [
       "u'https://plot.ly/~caseytaylor/0'"
      ]
     },
     "execution_count": 1,
     "metadata": {},
     "output_type": "execute_result"
    }
   ],
   "source": [
    "# Assuming you importplotly.plotly as py, \n",
    "# you can call plot/iplot like: py.plot(fig, filename = “MyPlot”)\n",
    "import plotly.plotly as py\n",
    "from plotly.graph_objs import *\n",
    "\n",
    "trace0 = Scatter(\n",
    "    x=[1, 2, 3, 4],\n",
    "    y=[10, 15, 13, 17]\n",
    ")\n",
    "trace1 = Scatter(\n",
    "    x=[1, 2, 3, 4],\n",
    "    y=[16, 5, 11, 9]\n",
    ")\n",
    "data = Data([trace0, trace1])\n",
    "\n",
    "py.plot(data, filename = 'basic-line')"
   ]
  },
  {
   "cell_type": "code",
   "execution_count": 3,
   "metadata": {},
   "outputs": [
    {
     "name": "stdout",
     "output_type": "stream",
     "text": [
      "High five! You successfully sent some data to your account on plotly. View your plot in your browser at https://plot.ly/~caseytaylor/0 or inside your plot.ly account where it is named 'basic-line'\n"
     ]
    },
    {
     "data": {
      "text/html": [
       "<iframe id=\"igraph\" scrolling=\"no\" style=\"border:none;\" seamless=\"seamless\" src=\"https://plot.ly/~caseytaylor/0.embed\" height=\"525px\" width=\"100%\"></iframe>"
      ],
      "text/plain": [
       "<plotly.tools.PlotlyDisplay object>"
      ]
     },
     "execution_count": 3,
     "metadata": {},
     "output_type": "execute_result"
    }
   ],
   "source": [
    "# plot() and iplot() are imported from the plotly.plotly module for online plotting \n",
    "import plotly.plotly as py\n",
    "# Figures are represented asinstances of the Figure class, \n",
    "# which you can import from the plotly.graph_objs module\n",
    "from plotly.graph_objs import *\n",
    "\n",
    "trace0 = Scatter(\n",
    "    x=[1, 2, 3, 4],\n",
    "    y=[10, 15, 13, 17]\n",
    ")\n",
    "trace1 = Scatter(\n",
    "    x=[1, 2, 3, 4],\n",
    "    y=[16, 5, 11, 9]\n",
    ")\n",
    "data = Data([trace0, trace1])\n",
    "py.iplot(data, filename = 'basic-line')"
   ]
  },
  {
   "cell_type": "code",
   "execution_count": 4,
   "metadata": {},
   "outputs": [
    {
     "data": {
      "text/plain": [
       "'2.4.0'"
      ]
     },
     "execution_count": 4,
     "metadata": {},
     "output_type": "execute_result"
    }
   ],
   "source": [
    "import plotly\n",
    "plotly.__version__"
   ]
  },
  {
   "cell_type": "code",
   "execution_count": 9,
   "metadata": {},
   "outputs": [
    {
     "data": {
      "text/plain": [
       "'file:///Users/caseytaylor/Documents/PIC 16/Preparations/temp-plot.html'"
      ]
     },
     "execution_count": 9,
     "metadata": {},
     "output_type": "execute_result"
    }
   ],
   "source": [
    "import plotly\n",
    "from plotly.graph_objs import Scatter, Layout\n",
    "\n",
    "plotly.offline.plot({\n",
    "    \"data\": [Scatter(x=[1, 2, 3, 4], y=[4, 3, 2, 1])],\n",
    "    \"layout\": Layout(title=\"hello world\")\n",
    "    # data and layout are characteristics of Figure object\n",
    "})"
   ]
  },
  {
   "cell_type": "markdown",
   "metadata": {},
   "source": [
    "## layout objects\n",
    "\n",
    "Layout object sare like dictionaries tha only understand certain keys, and each key expects a certain type of value. Ex:\n",
    "(key --- value pairs)\n",
    "- title– a string to appear at the top of the plot.\n",
    "- xaxis, yaxis– Acceptable values are a XAxis/YAxis object or equivalent Python dictionary. This allows you to specify not only the label that will appear next to each axis(the axis title) but options about the plot’s grid, etc...\n"
   ]
  },
  {
   "cell_type": "code",
   "execution_count": 13,
   "metadata": {},
   "outputs": [
    {
     "ename": "SyntaxError",
     "evalue": "invalid syntax (<ipython-input-13-7d3ef3471c1d>, line 6)",
     "output_type": "error",
     "traceback": [
      "\u001b[0;36m  File \u001b[0;32m\"<ipython-input-13-7d3ef3471c1d>\"\u001b[0;36m, line \u001b[0;32m6\u001b[0m\n\u001b[0;31m    showLegend = True})\u001b[0m\n\u001b[0m               ^\u001b[0m\n\u001b[0;31mSyntaxError\u001b[0m\u001b[0;31m:\u001b[0m invalid syntax\n"
     ]
    }
   ],
   "source": [
    "# ex:\n",
    "layout = Layout(title = \"Hello\", \n",
    "                xaxis = XAxis(title = \"WattupX\"),\n",
    "        \n",
    "                yaxis = {title: \"WattupY\", \n",
    "                         showLegend = True})\n",
    "# instead of creating a YAxisobject, we have substituted an appropriate dictionary\n",
    "# You don’t NEED to use Plotly graph objects since they’re basically just lists or dictionaries\n"
   ]
  },
  {
   "cell_type": "markdown",
   "metadata": {},
   "source": [
    "After you’ve created a Layout, you can access its keys as you would those of a regular dictionary, like __layout[\"title\"] = \"Hello2\"__.\n",
    "Unlike a regular dictionary, you can also access them with a dot notation: __layout.title = \"Hello3\"__."
   ]
  },
  {
   "cell_type": "markdown",
   "metadata": {},
   "source": [
    "## data objects"
   ]
  },
  {
   "cell_type": "markdown",
   "metadata": {},
   "source": [
    "A __Data object__ is a __list-like object__ containing __Traces__. If you only have one trace, like one __Scatter object__, you initialize the Datao bject with a Python list containing only one element, your Scatte robject. \n",
    "\n",
    "The nice thing about Data being __list-like__ is that you can create plots with several kinds of traces on it at once, like a __scatterplot__ over a __barchart__. The Data object would simply be initialized with a list containing both a __ScatterTrace__ and a __BarTrace__. \n",
    "\n",
    "For instance, a Data object can be created like:\n",
    "- data= Data([scatter_trace, bar_trace])"
   ]
  },
  {
   "cell_type": "markdown",
   "metadata": {},
   "source": [
    "## and finally, create figure object\n",
    "Finally, we create our __Figure object__, mentioned earlier. A Figure object is __dictionary-like__, and it expects keys data and layout.\n",
    "\n",
    "- fig = Figure(data = data, layout = layout)\n",
    "\n",
    "- plotly.offline.iplot(fig)"
   ]
  },
  {
   "cell_type": "code",
   "execution_count": 7,
   "metadata": {},
   "outputs": [
    {
     "data": {
      "text/html": [
       "<script>requirejs.config({paths: { 'plotly': ['https://cdn.plot.ly/plotly-latest.min']},});if(!window.Plotly) {{require(['plotly'],function(plotly) {window.Plotly=plotly;});}}</script>"
      ],
      "text/vnd.plotly.v1+html": [
       "<script>requirejs.config({paths: { 'plotly': ['https://cdn.plot.ly/plotly-latest.min']},});if(!window.Plotly) {{require(['plotly'],function(plotly) {window.Plotly=plotly;});}}</script>"
      ]
     },
     "metadata": {},
     "output_type": "display_data"
    },
    {
     "data": {
      "application/vnd.plotly.v1+json": {
       "data": [
        {
         "type": "scatter",
         "x": [
          1,
          2,
          3,
          4
         ],
         "y": [
          4,
          3,
          2,
          1
         ]
        }
       ],
       "layout": {
        "title": "hello world"
       }
      },
      "text/html": [
       "<div id=\"4dda9d5e-65c9-493f-b05b-23a1f9407acc\" style=\"height: 525px; width: 100%;\" class=\"plotly-graph-div\"></div><script type=\"text/javascript\">require([\"plotly\"], function(Plotly) { window.PLOTLYENV=window.PLOTLYENV || {};window.PLOTLYENV.BASE_URL=\"https://plot.ly\";Plotly.newPlot(\"4dda9d5e-65c9-493f-b05b-23a1f9407acc\", [{\"y\": [4, 3, 2, 1], \"x\": [1, 2, 3, 4], \"type\": \"scatter\"}], {\"title\": \"hello world\"}, {\"linkText\": \"Export to plot.ly\", \"showLink\": true})});</script>"
      ],
      "text/vnd.plotly.v1+html": [
       "<div id=\"4dda9d5e-65c9-493f-b05b-23a1f9407acc\" style=\"height: 525px; width: 100%;\" class=\"plotly-graph-div\"></div><script type=\"text/javascript\">require([\"plotly\"], function(Plotly) { window.PLOTLYENV=window.PLOTLYENV || {};window.PLOTLYENV.BASE_URL=\"https://plot.ly\";Plotly.newPlot(\"4dda9d5e-65c9-493f-b05b-23a1f9407acc\", [{\"y\": [4, 3, 2, 1], \"x\": [1, 2, 3, 4], \"type\": \"scatter\"}], {\"title\": \"hello world\"}, {\"linkText\": \"Export to plot.ly\", \"showLink\": true})});</script>"
      ]
     },
     "metadata": {},
     "output_type": "display_data"
    }
   ],
   "source": [
    "import plotly\n",
    "from plotly.graph_objs import Scatter, Layout\n",
    "\n",
    "# extra initialization step for offline plotting in jupyter notebook\n",
    "plotly.offline.init_notebook_mode(connected=True)\n",
    "\n",
    "plotly.offline.iplot({\n",
    "    \"data\": [Scatter(x=[1, 2, 3, 4], y=[4, 3, 2, 1])],\n",
    "    \"layout\": Layout(title=\"hello world\")\n",
    "})"
   ]
  },
  {
   "cell_type": "code",
   "execution_count": null,
   "metadata": {
    "collapsed": true
   },
   "outputs": [],
   "source": []
  }
 ],
 "metadata": {
  "kernelspec": {
   "display_name": "Python 2",
   "language": "python",
   "name": "python2"
  },
  "language_info": {
   "codemirror_mode": {
    "name": "ipython",
    "version": 2
   },
   "file_extension": ".py",
   "mimetype": "text/x-python",
   "name": "python",
   "nbconvert_exporter": "python",
   "pygments_lexer": "ipython2",
   "version": "2.7.14"
  }
 },
 "nbformat": 4,
 "nbformat_minor": 2
}
